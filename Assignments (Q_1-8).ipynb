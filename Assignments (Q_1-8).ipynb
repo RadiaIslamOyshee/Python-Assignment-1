{
 "cells": [
  {
   "cell_type": "markdown",
   "metadata": {},
   "source": [
    "                             Radia Islam Oyshee      ID:(172014020)"
   ]
  },
  {
   "cell_type": "markdown",
   "metadata": {},
   "source": [
    "# 1.Write a function called rectangle that takes two integers m and n as arguments and prints out an m × n box consisting of asterisks"
   ]
  },
  {
   "cell_type": "code",
   "execution_count": 1,
   "metadata": {},
   "outputs": [
    {
     "name": "stdout",
     "output_type": "stream",
     "text": [
      "Creating rectangle with m*n '(row * coloums)'\n",
      "* * * * * * * * * * * * * *  \n",
      "* * * * * * * * * * * * * *  \n",
      "* * * * * * * * * * * * * *  \n",
      "* * * * * * * * * * * * * *  \n",
      "* * * * * * * * * * * * * *  \n",
      "* * * * * * * * * * * * * *  \n",
      "* * * * * * * * * * * * * *  \n",
      "* * * * * * * * * * * * * *  \n",
      "* * * * * * * * * * * * * *  \n"
     ]
    }
   ],
   "source": [
    "print(\"Creating rectangle with m*n '(row * coloums)'\")\n",
    "\n",
    "def rectangle(m ,n): # here, m is used for rows and n is used for coloums\n",
    " for i in range(m):\n",
    "    for j in range(n):\n",
    "        print(\"*\"),\n",
    "    print(\" \")\n",
    "\n",
    "rectangle(9,14)      #It will print row of 9 stars and coloum of 14 stars and create a rectangle"
   ]
  },
  {
   "cell_type": "markdown",
   "metadata": {},
   "source": [
    "# 2. Write a function called add_excitement that takes a list of strings and adds an exclamation point ( ! ) to the end of each string in the list. The program should modify the original list and not return anything."
   ]
  },
  {
   "cell_type": "code",
   "execution_count": 2,
   "metadata": {},
   "outputs": [
    {
     "name": "stdout",
     "output_type": "stream",
     "text": [
      "Enter a string: Hi! I am Raida\n",
      "Hi I am Raida\n"
     ]
    }
   ],
   "source": [
    "def add_exitement():\n",
    "    p = \"!\"\n",
    "    s = raw_input(\"Enter a string: \") # it takes sring as input from the user\n",
    "\n",
    "    no_punctuation = \"\" # remove punctuation from the string\n",
    "    for char in s:\n",
    "        if char not in p:\n",
    "            no_punctuation = no_punctuation + char\n",
    "\n",
    "    print(no_punctuation) # display the new unpunctuated string\n",
    "\n",
    "add_exitement()"
   ]
  },
  {
   "cell_type": "markdown",
   "metadata": {},
   "source": [
    "# 3. Write the same function except that it should not modify the original list and should instead return a new list.\n"
   ]
  },
  {
   "cell_type": "code",
   "execution_count": 3,
   "metadata": {},
   "outputs": [
    {
     "name": "stdout",
     "output_type": "stream",
     "text": [
      "Enter your string: Hi! I am Radia\n",
      "\n",
      "New String is:\n"
     ]
    },
    {
     "data": {
      "text/plain": [
       "'Hi! I am Radia'"
      ]
     },
     "execution_count": 3,
     "metadata": {},
     "output_type": "execute_result"
    }
   ],
   "source": [
    "def add_exitement():\n",
    "    \n",
    "    String = raw_input(\"Enter your string: \") # This takes a string as input\n",
    "   \n",
    "    print '\\nNew String is:'\n",
    "    return String # it will returns the string\n",
    "\n",
    "add_exitement() # here is the calling function"
   ]
  },
  {
   "cell_type": "markdown",
   "metadata": {},
   "source": [
    "# 4. The digital root of a number n is obtained as follows: Add up the digits n to get a new number. Add up the digits of that to get another new number. Keep doing this until you get a number that has only one digit. That number is the digital root. For example, if n = 45893 , we add up the digits to get 4 + 5 + 8 + 9 + 3 = 29 . We then add up the digits of 29 to get 2 + 9 = 11 . We then add up the digits of 11 to get 1 + 1 = 2 . Since 2 has only one digit, 2 is our digital root. Write a function that returns the digital root of an integer n . [Note: there is a shortcut, where the digital root is equal to n mod 9, but do not use that here."
   ]
  },
  {
   "cell_type": "code",
   "execution_count": 4,
   "metadata": {},
   "outputs": [
    {
     "name": "stdout",
     "output_type": "stream",
     "text": [
      "Enter an integer: 6578\n",
      "Digital Root is:  8\n"
     ]
    }
   ],
   "source": [
    "def digital_root():\n",
    "    \n",
    "    n = input(\"Enter an integer: \") # n is input\n",
    "    st = 0 # s represents sum\n",
    "    \n",
    "    while(n > 0 or st > 9):   \n",
    "        if(n == 0): # when n is 0, the the sum = 0\n",
    "            n = st\n",
    "            st = 0\n",
    "        else:\n",
    "            st = st + (n % 10)\n",
    "            n = n / 10\n",
    "    \n",
    "    print \"Digital Root is: \", st\n",
    "\n",
    "digital_root() # this is a calling function"
   ]
  },
  {
   "cell_type": "markdown",
   "metadata": {},
   "source": [
    "# 5. Write a function that takes an integer n and returns a random integer with exactly n digits. For instance, if n is 3, then 125 and 593 would be valid return values, but 093 would not because that is really 93, which is a two-digit number."
   ]
  },
  {
   "cell_type": "code",
   "execution_count": 6,
   "metadata": {},
   "outputs": [
    {
     "name": "stdout",
     "output_type": "stream",
     "text": [
      "Length of the integer: 4\n",
      "\n",
      "Here is a  4 digits random number: \n"
     ]
    },
    {
     "data": {
      "text/plain": [
       "2437"
      ]
     },
     "execution_count": 6,
     "metadata": {},
     "output_type": "execute_result"
    }
   ],
   "source": [
    "from random import randint\n",
    "\n",
    "def ran_num():\n",
    "    \n",
    "    n = input(\"Length of the integer: \") # n represents input of the length of the integer\n",
    "    \n",
    "    s = 10 ** (n - 1) # start point of n digits numbers\n",
    "    e = (10 ** n) - 1 # end poin of n digit numbers\n",
    "    print '\\nHere is a ', n, 'digits random number: '\n",
    "    return randint(s, e) # returns random number\n",
    "\n",
    "ran_num()"
   ]
  },
  {
   "cell_type": "markdown",
   "metadata": {},
   "source": [
    "# 6. Write a function called matches that takes two strings as arguments and returns how many matches there are between the strings. A match is where the two strings have the same character at the same index. For instance, ' python ' and ' path ' match in the first, third, and fourth characters, so the function should return 3."
   ]
  },
  {
   "cell_type": "code",
   "execution_count": 9,
   "metadata": {},
   "outputs": [
    {
     "name": "stdout",
     "output_type": "stream",
     "text": [
      "Total Matched characters: 3\n"
     ]
    }
   ],
   "source": [
    "def match_f(s_1, s_2): # its the function name\n",
    "    \n",
    "    m = set(s_1) & set(s_2) #it finds the matches \n",
    "     \n",
    "    print 'Total Matched characters: ' +str(len(m))\n",
    "\n",
    "match_f('Radia','Nadia') # calling function with arguments"
   ]
  },
  {
   "cell_type": "markdown",
   "metadata": {},
   "source": [
    "# 7. Write a function called primes that is given a number n and returns a list of the first n primes. Let the default value of n be 100"
   ]
  },
  {
   "cell_type": "code",
   "execution_count": 14,
   "metadata": {},
   "outputs": [
    {
     "name": "stdout",
     "output_type": "stream",
     "text": [
      "List of First 100 Prime Numbers are:  2 3 5 7 11 13 17 19 23 29 31 37 41 43 47 53 59 61 67 71 73 79 83 89 97 101 103 107 109 113 127 131 137 139 149 151 157 163 167 173 179 181 191 193 197 199 211 223 227 229 233 239 241 251 257 263 269 271 277 281 283 293 307 311 313 317 331 337 347 349 353 359 367 373 379 383 389 397 401 409 419 421 431 433 439 443 449 457 461 463 467 479 487 491 499 503 509 521 523 541\n"
     ]
    }
   ],
   "source": [
    "def main(): \n",
    "    print \"List of First 100 Prime Numbers are: \",\n",
    "    c = 0\n",
    "    n = 0\n",
    "    \n",
    "    while c < 100:\n",
    "        if primes(n):\n",
    "            c = c + 1\n",
    "            print n,\n",
    "            # output of the prime numbers\n",
    "        n = n + 1\n",
    "\n",
    "def primes(n):# function name is prime and n is given number\n",
    "    \n",
    "    ans = True\n",
    "    for j in range(2,n):\n",
    "        if n % j == 0: \n",
    "            # check prime numbers\n",
    "            ans = False\n",
    "            break\n",
    "\n",
    "    if n <= 1:\n",
    "        ans = False\n",
    "    \n",
    "    return ans\n",
    "\n",
    "main() # calling main function"
   ]
  },
  {
   "cell_type": "markdown",
   "metadata": {},
   "source": [
    "# 8. Recall that if s is a string, then s.find( ' a ' ) will find the location of the first a in s . The problem is that it does not find the location of every a. Write a function called findall that given a string and a single character, returns a list containing all of the locations of that character in the string. It should return an empty list if there are no occurrences of the character in the string."
   ]
  },
  {
   "cell_type": "code",
   "execution_count": 15,
   "metadata": {},
   "outputs": [
    {
     "name": "stdout",
     "output_type": "stream",
     "text": [
      "Locations of a are:  12 16 18\n"
     ]
    }
   ],
   "source": [
    "def findall():\n",
    "    s = 'Position of a Character' # given string = s\n",
    "    location = -1\n",
    "    print 'Locations of a are: ',\n",
    "    while True:\n",
    "        location = s.find('a', location + 1)\n",
    "    # the string will search the location of character 'a' \n",
    "        \n",
    "        if location == -1: # when the search string isn't found\n",
    "            break        # exit from the loop and return empty list\n",
    "        else:\n",
    "            yield location #  returns generator.\n",
    "            \n",
    "for location in findall():\n",
    "    print (location), \n",
    "    # gives the output of every location of a string"
   ]
  },
  {
   "cell_type": "code",
   "execution_count": null,
   "metadata": {},
   "outputs": [],
   "source": []
  }
 ],
 "metadata": {
  "kernelspec": {
   "display_name": "Python 2",
   "language": "python",
   "name": "python2"
  },
  "language_info": {
   "codemirror_mode": {
    "name": "ipython",
    "version": 2
   },
   "file_extension": ".py",
   "mimetype": "text/x-python",
   "name": "python",
   "nbconvert_exporter": "python",
   "pygments_lexer": "ipython2",
   "version": "2.7.15"
  }
 },
 "nbformat": 4,
 "nbformat_minor": 2
}
