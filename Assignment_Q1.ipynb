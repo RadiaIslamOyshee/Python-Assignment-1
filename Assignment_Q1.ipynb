{
 "cells": [
  {
   "cell_type": "markdown",
   "metadata": {},
   "source": [
    "# 1.Write a function called rectangle that takes two integers m and n as arguments and prints out an m × n box consisting of asterisks"
   ]
  },
  {
   "cell_type": "code",
   "execution_count": 4,
   "metadata": {},
   "outputs": [
    {
     "name": "stdout",
     "output_type": "stream",
     "text": [
      "Creating rectangle with m*n '(row * coloums)'\n",
      "* * * * * * * * * * * * * *  \n",
      "* * * * * * * * * * * * * *  \n",
      "* * * * * * * * * * * * * *  \n",
      "* * * * * * * * * * * * * *  \n",
      "* * * * * * * * * * * * * *  \n",
      "* * * * * * * * * * * * * *  \n",
      "* * * * * * * * * * * * * *  \n",
      "* * * * * * * * * * * * * *  \n",
      "* * * * * * * * * * * * * *  \n"
     ]
    }
   ],
   "source": [
    "print(\"Creating rectangle with m*n '(row * coloums)'\")\n",
    "\n",
    "def rectangle(m ,n): # here, m is used for rows and n is used for coloums\n",
    " for i in range(m):\n",
    "    for j in range(n):\n",
    "        print(\"*\"),\n",
    "    print(\" \")\n",
    "\n",
    "rectangle(9,14)      #It will print row of 9 stars and coloum of 14 stars and create a rectangle"
   ]
  },
  {
   "cell_type": "code",
   "execution_count": null,
   "metadata": {},
   "outputs": [],
   "source": []
  }
 ],
 "metadata": {
  "kernelspec": {
   "display_name": "Python 2",
   "language": "python",
   "name": "python2"
  },
  "language_info": {
   "codemirror_mode": {
    "name": "ipython",
    "version": 2
   },
   "file_extension": ".py",
   "mimetype": "text/x-python",
   "name": "python",
   "nbconvert_exporter": "python",
   "pygments_lexer": "ipython2",
   "version": "2.7.15"
  }
 },
 "nbformat": 4,
 "nbformat_minor": 2
}
