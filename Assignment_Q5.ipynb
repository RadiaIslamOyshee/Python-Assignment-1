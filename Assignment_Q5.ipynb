{
 "cells": [
  {
   "cell_type": "markdown",
   "metadata": {},
   "source": [
    "# 5. Write a function that takes an integer n and returns a random integer with exactly n digits. For instance, if n is 3, then 125 and 593 would be valid return values, but 093 would not because that is really 93, which is a two-digit number."
   ]
  },
  {
   "cell_type": "code",
   "execution_count": 3,
   "metadata": {},
   "outputs": [
    {
     "name": "stdout",
     "output_type": "stream",
     "text": [
      "Length of the integer: 9\n",
      "\n",
      "Here is a  9 digits random number: \n"
     ]
    },
    {
     "data": {
      "text/plain": [
       "889533062"
      ]
     },
     "execution_count": 3,
     "metadata": {},
     "output_type": "execute_result"
    }
   ],
   "source": [
    "from random import randint\n",
    "\n",
    "def ran_num():\n",
    "    \n",
    "    n = input(\"Length of the integer: \") # n represents input of the length of the integer\n",
    "    \n",
    "    s = 10 ** (n - 1) # start point of n digits numbers\n",
    "    e = (10 ** n) - 1 # end poin of n digit numbers\n",
    "    print '\\nHere is a ', n, 'digits random number: '\n",
    "    return randint(s, e) # returns random number\n",
    "\n",
    "ran_num()"
   ]
  },
  {
   "cell_type": "code",
   "execution_count": null,
   "metadata": {},
   "outputs": [],
   "source": []
  }
 ],
 "metadata": {
  "kernelspec": {
   "display_name": "Python 2",
   "language": "python",
   "name": "python2"
  },
  "language_info": {
   "codemirror_mode": {
    "name": "ipython",
    "version": 2
   },
   "file_extension": ".py",
   "mimetype": "text/x-python",
   "name": "python",
   "nbconvert_exporter": "python",
   "pygments_lexer": "ipython2",
   "version": "2.7.15"
  }
 },
 "nbformat": 4,
 "nbformat_minor": 2
}
