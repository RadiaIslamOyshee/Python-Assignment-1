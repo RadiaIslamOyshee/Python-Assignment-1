{
 "cells": [
  {
   "cell_type": "markdown",
   "metadata": {},
   "source": [
    "# 2. Write a function called add_excitement that takes a list of strings and adds an exclamation point ( ! ) to the end of each string in the list. The program should modify the original list and not return anything."
   ]
  },
  {
   "cell_type": "code",
   "execution_count": 2,
   "metadata": {},
   "outputs": [
    {
     "name": "stdout",
     "output_type": "stream",
     "text": [
      "Enter a string: Hi! My name is Radia\n",
      "Hi My name is Radia\n"
     ]
    }
   ],
   "source": [
    "def add_exitement():\n",
    "    p = \"!\"\n",
    "    s = raw_input(\"Enter a string: \") # it takes sring as input from the user\n",
    "\n",
    "    no_punctuation = \"\" # remove punctuation from the string\n",
    "    for char in s:\n",
    "        if char not in p:\n",
    "            no_punctuation = no_punctuation + char\n",
    "\n",
    "    print(no_punctuation) # display the new unpunctuated string\n",
    "\n",
    "add_exitement()"
   ]
  },
  {
   "cell_type": "code",
   "execution_count": null,
   "metadata": {},
   "outputs": [],
   "source": []
  }
 ],
 "metadata": {
  "kernelspec": {
   "display_name": "Python 2",
   "language": "python",
   "name": "python2"
  },
  "language_info": {
   "codemirror_mode": {
    "name": "ipython",
    "version": 2
   },
   "file_extension": ".py",
   "mimetype": "text/x-python",
   "name": "python",
   "nbconvert_exporter": "python",
   "pygments_lexer": "ipython2",
   "version": "2.7.15"
  }
 },
 "nbformat": 4,
 "nbformat_minor": 2
}
